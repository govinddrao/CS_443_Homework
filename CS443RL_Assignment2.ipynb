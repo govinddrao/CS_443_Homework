{
  "cells": [
    {
      "cell_type": "markdown",
      "metadata": {
        "id": "0ZWsnEMjaMR0"
      },
      "source": [
        "**Welcome to the second programming assignment for CS 443 RL!**"
      ]
    },
    {
      "cell_type": "markdown",
      "metadata": {
        "id": "WfPe-_9iawIJ"
      },
      "source": [
        "This assignment will have you implementing tabular model-based methods (value iteration, policy iteration, policy evaluation)."
      ]
    },
    {
      "cell_type": "markdown",
      "source": [
        "Name: Govind Rao  \n",
        "Net ID: gsrao2   "
      ],
      "metadata": {
        "id": "76dmQFBWPNbm"
      }
    },
    {
      "cell_type": "code",
      "execution_count": null,
      "metadata": {
        "id": "VEvS3FEgWxc6"
      },
      "outputs": [],
      "source": [
        "import gym\n",
        "import numpy as np"
      ]
    },
    {
      "cell_type": "markdown",
      "metadata": {
        "id": "UMgTMDy6OS2e"
      },
      "source": [
        "We will be playing on the\n",
        "Taxi environment. The environment is loaded as follows:"
      ]
    },
    {
      "cell_type": "code",
      "execution_count": null,
      "metadata": {
        "id": "0E9zqEYpOd6b",
        "colab": {
          "base_uri": "https://localhost:8080/"
        },
        "outputId": "07748a33-21e3-416c-9dfb-48e9fb89998f"
      },
      "outputs": [
        {
          "output_type": "stream",
          "name": "stderr",
          "text": [
            "/usr/local/lib/python3.10/dist-packages/gym/core.py:317: DeprecationWarning: \u001b[33mWARN: Initializing wrapper in old step API which returns one bool instead of two. It is recommended to set `new_step_api=True` to use new step API. This will be the default behaviour in future.\u001b[0m\n",
            "  deprecation(\n",
            "/usr/local/lib/python3.10/dist-packages/gym/wrappers/step_api_compatibility.py:39: DeprecationWarning: \u001b[33mWARN: Initializing environment in old step API which returns one bool instead of two. It is recommended to set `new_step_api=True` to use new step API. This will be the default behaviour in future.\u001b[0m\n",
            "  deprecation(\n"
          ]
        }
      ],
      "source": [
        "taxi_env = gym.make('Taxi-v3')\n",
        "starting_state = taxi_env.reset() #must reset the environment before interacting with it"
      ]
    },
    {
      "cell_type": "markdown",
      "metadata": {
        "id": "zSvdrsgSH6eg"
      },
      "source": [
        "The Taxi domain was introduced in the paper \"The MAXQ Method for Hierarchical Reinforcement Learning\" by Thomas G. Dietterich (https://pdfs.semanticscholar.org/fdc7/c1e10d935e4b648a32938f13368906864ab3.pdf) in ICML 1998.\n",
        "\n",
        "The version that we will be playing is slightly simpler than the version considered in that paper. Here is a description from the open source code for gym:\n",
        "\n",
        "> Description:\n",
        "    There are four designated locations in the grid world indicated by R(ed), G(reen), Y(ellow), and B(lue). When the episode starts, the taxi starts off at a random square and the passenger is at a random location. The taxi drives to the passenger's location, picks up the passenger, drives to the passenger's destination (another one of the four specified locations), and then drops off the passenger. Once the passenger is dropped off, the episode ends.\n",
        "\n",
        "> Observations:\n",
        "    There are 500 discrete states since there are 25 taxi positions, 5 possible locations of the passenger (including the case when the passenger is in the taxi), and 4 destination locations.\n",
        "\n",
        "    \n",
        "    Passenger locations:\n",
        "    - 0: R(ed)\n",
        "    - 1: G(reen)\n",
        "    - 2: Y(ellow)\n",
        "    - 3: B(lue)\n",
        "    - 4: in taxi\n",
        "\n",
        "    Destinations:\n",
        "    - 0: R(ed)\n",
        "    - 1: G(reen)\n",
        "    - 2: Y(ellow)\n",
        "    - 3: B(lue)\n",
        "\n",
        "    Actions:\n",
        "    There are 6 discrete deterministic actions:\n",
        "    - 0: move south\n",
        "    - 1: move north\n",
        "    - 2: move east\n",
        "    - 3: move west\n",
        "    - 4: pickup passenger\n",
        "    - 5: drop off passenger\n",
        "\n",
        "    Rewards:\n",
        "    There is a default per-step reward of -1,\n",
        "    except for delivering the passenger, which is +20,\n",
        "    or executing \"pickup\" and \"drop-off\" actions illegally, which is -10.\n",
        "\n",
        "    Rendering:\n",
        "    - blue: passenger\n",
        "    - magenta: destination\n",
        "    - yellow: empty taxi\n",
        "    - green: full taxi\n",
        "    - other letters (R, G, Y and B): locations for passengers and destinations\n",
        "    \n",
        "    state space is represented by:\n",
        "        (taxi_row, taxi_col, passenger_location, destination)"
      ]
    },
    {
      "cell_type": "markdown",
      "metadata": {
        "id": "bbcd1qAiJMrw"
      },
      "source": [
        "In order to apply the model-based method in the episodic setting, we add a terminal state (the taxi drops off the passenger at the destination) in the MDP. So we end up with 501 states in total. We provide you with an MDP class for modelling the environment. You can directly use it for all the following questions."
      ]
    },
    {
      "cell_type": "code",
      "execution_count": null,
      "metadata": {
        "id": "Zya3GlL0Jgjy"
      },
      "outputs": [],
      "source": [
        "class MDP:\n",
        "  def __init__(self,env):\n",
        "    self.num_states = env.observation_space.n + 1\n",
        "    self.num_actions = env.action_space.n\n",
        "    self.starting_state = starting_state\n",
        "    self.action_to_plot = 1\n",
        "\n",
        "    self.R = np.zeros([self.num_states, self.num_actions])\n",
        "    self.T = np.zeros([self.num_states, self.num_actions, self.num_states])\n",
        "    self.gamma = 0.99\n",
        "\n",
        "    for state in range(self.num_states - 1):\n",
        "      for action in range(self.num_actions):\n",
        "          for transition in env.env.P[state][action]:\n",
        "              probability, next_state, reward, done = transition\n",
        "              self.R[state, action] = reward\n",
        "              self.T[state, action, next_state] = probability\n",
        "\n",
        "    for action in range(self.num_actions):\n",
        "      self.T[-1, action, -1] = 1\n",
        "\n",
        "    for state in range(self.num_states - 1):\n",
        "      state_decode = list(env.env.decode(state))\n",
        "      des_x = taxi_env.env.locs[state_decode[3]][0]\n",
        "      des_y = taxi_env.env.locs[state_decode[3]][1]\n",
        "      if (state_decode[2] == 4) and (state_decode[0] == des_x) and (state_decode[1] == des_y):\n",
        "        self.T[state, 5] = 0\n",
        "        self.T[state, 5, -1] = 1\n",
        "\n",
        "  def reset(self):\n",
        "    env.reset()"
      ]
    },
    {
      "cell_type": "markdown",
      "metadata": {
        "id": "oc_oI9ZO-zIb"
      },
      "source": [
        "The MDP for Taxi is created as follows:"
      ]
    },
    {
      "cell_type": "code",
      "execution_count": null,
      "metadata": {
        "colab": {
          "base_uri": "https://localhost:8080/"
        },
        "id": "oac3cNkn-yQf",
        "outputId": "84fe1b91-e756-4165-9f0b-95afff703713"
      },
      "outputs": [
        {
          "output_type": "stream",
          "name": "stdout",
          "text": [
            "501\n",
            "6\n",
            "0.99\n",
            "(501, 6)\n",
            "(501, 6, 501)\n"
          ]
        }
      ],
      "source": [
        "obs = taxi_env.reset()\n",
        "taxi_mdp = MDP(taxi_env)\n",
        "#attributes of the MDP:\n",
        "print(taxi_mdp.num_states) #number of states\n",
        "print(taxi_mdp.num_actions) #number of actions\n",
        "print(taxi_mdp.gamma) #gamma\n",
        "print(taxi_mdp.R.shape) #reward matrix (dimension num_states X num_actions)\n",
        "print(taxi_mdp.T.shape) #transition matrix (dimension num_states x num_actions X num_states)"
      ]
    },
    {
      "cell_type": "markdown",
      "metadata": {
        "id": "aJvBKQlLD4iv"
      },
      "source": [
        "**Q1: Implement the Value Iteration algorithm and solve for $Q^\\star$**.\n",
        "\n",
        "Write a method called `value_iter(mdp)` which takes an MDP as argument and returns the optimal Q-value function ($Q^\\star$) as an `np.array` with $501 \\times 6$ elements (the number of states $\\times$ the number of actions).\n",
        "\n",
        "Do this by implementing the Value Iteration algorithm seen in class, a.k.a. by repeatedly applying the Bellman operator $\\mathcal{T}$. Run your code on the taxi environment and output the optimal Q-value function. As a stopping criterion, you can check if $\\lVert Q_n - Q_{n+1}\\rVert_\\infty < 10^{-4}$.\n",
        "\n",
        "Plot a 'learning curve' which consists of the optimal Q-value function for the `(starting state, action_to_plot)` pair at each iteration of training. More specifically, your plot should have the iteration number on the $x$-axis and $Q($starting\\_state, action\\_to\\_plot$)$ on the $y$-axis. In `value_iter` function, you can also return other variables that are useful for your plot (e.g. training values) as long as you return the final `Q_fn`.\n",
        "\n",
        "In the code above, starting_state is defined by `starting_state = taxi_env.reset()`, and `action_to_plot` is set to $1$. In your implementation, you only need to use those variables defined in the MDP class (i.e. `mdp.starting_state`, `mdp.action_to_plot`).\n",
        "\n",
        "You should expect that the Q-value function of any (state, action) pair does not exceed $20$ no matter how you choose $\\gamma$ (we provide `mdp.gamma=0.99`, but you can also try other values)."
      ]
    },
    {
      "cell_type": "code",
      "execution_count": null,
      "metadata": {
        "id": "Cr3I_PSrVVxX",
        "colab": {
          "base_uri": "https://localhost:8080/",
          "height": 505
        },
        "outputId": "c9033eca-5e6a-46b0-b0a9-6a244752bffd"
      },
      "outputs": [
        {
          "output_type": "stream",
          "name": "stderr",
          "text": [
            "/usr/local/lib/python3.10/dist-packages/ipykernel/ipkernel.py:283: DeprecationWarning: `should_run_async` will not call `transform_cell` automatically in the future. Please pass the result to `transformed_cell` argument and any exception that happen during thetransform in `preprocessing_exc_tuple` in IPython 7.17 and above.\n",
            "  and should_run_async(code)\n"
          ]
        },
        {
          "output_type": "display_data",
          "data": {
            "text/plain": [
              "<Figure size 640x480 with 1 Axes>"
            ],
            "image/png": "[encoded data removed]"
          },
          "metadata": {}
        }
      ],
      "source": [
        "def value_iter(mdp, theta=1e-4):\n",
        "    num_states = mdp.num_states\n",
        "    num_actions = mdp.num_actions\n",
        "    Q_fn = np.zeros([num_states, num_actions])\n",
        "    delta = float('inf')\n",
        "    iteration_number = []\n",
        "    training_values = []\n",
        "    #YOUR CODE HERE....\n",
        "    while delta > theta:\n",
        "        delta = 0\n",
        "        Q_fn_updated = Q_fn.copy()\n",
        "\n",
        "        for s in range(num_states):\n",
        "            for a in range(num_actions):\n",
        "                immediate_reward = mdp.R[s, a]\n",
        "                future_reward = sum(mdp.T[s, a, s_prime] * max(Q_fn[s_prime]) for s_prime in range(num_states))\n",
        "                Q_fn_updated[s, a] = immediate_reward + mdp.gamma * future_reward\n",
        "                delta = max(delta, abs(Q_fn_updated[s, a] - Q_fn[s, a]))\n",
        "\n",
        "        Q_fn = Q_fn_updated.copy()\n",
        "        iteration_number.append(len(iteration_number) + 1)\n",
        "        training_values.append(Q_fn[mdp.starting_state, mdp.action_to_plot])\n",
        "\n",
        "    return Q_fn, iteration_number, training_values\n",
        "\n",
        "#might be useful for plotting\n",
        "import matplotlib.pyplot as mpl\n",
        "Q_star, it_num, train_values = value_iter(taxi_mdp)\n",
        "mpl.plot(it_num, train_values)\n",
        "mpl.xlabel(\"iteration_number\")\n",
        "mpl.ylabel(\"Q value function\")\n",
        "mpl.grid(True)"
      ]
    },
    {
      "cell_type": "code",
      "source": [
        "Q_value_starting_state = round(max(train_values), 3)\n",
        "print(Q_value_starting_state)"
      ],
      "metadata": {
        "id": "LJ5Eiok7SHAh",
        "colab": {
          "base_uri": "https://localhost:8080/"
        },
        "outputId": "64cfa302-3cb3-4fc2-e432-4f504767ec6e"
      },
      "execution_count": null,
      "outputs": [
        {
          "output_type": "stream",
          "name": "stdout",
          "text": [
            "7.441\n"
          ]
        },
        {
          "output_type": "stream",
          "name": "stderr",
          "text": [
            "/usr/local/lib/python3.10/dist-packages/ipykernel/ipkernel.py:283: DeprecationWarning: `should_run_async` will not call `transform_cell` automatically in the future. Please pass the result to `transformed_cell` argument and any exception that happen during thetransform in `preprocessing_exc_tuple` in IPython 7.17 and above.\n",
            "  and should_run_async(code)\n"
          ]
        }
      ]
    },
    {
      "cell_type": "markdown",
      "metadata": {
        "id": "9lRBfGdbaeDE"
      },
      "source": [
        "**Q2: Implement the Policy Evaluation algorithm and solve for the Q-value function $Q^\\pi$ of a given policy $\\pi$.**\n",
        "\n",
        "Write a method called `policy_eval(mdp, policy)` which takes an MDP and a policy and then outputs the Q-value function $Q^\\pi$ (for the input policy in the input MDP) as an `np.array` with $501 \\times 6$ elements.\n",
        "\n",
        "Do this by implementing the Policy Evaluation algorithm seen in class, a.k.a. by repeatedly applying the Bellman operator $\\mathcal{T}^\\pi$. You should not assume the policy is deterministic. The format of the policy $\\pi(a|s)$ is a `(num_states) x (num_actions)` array (i.e. $501 \\times 6$). Every row of the policy matrix should be a probability distribution over actions. Run your code on the taxi environment with the policy which acts uniformly at random at every state.\n",
        "\n",
        "Plot a 'learning curve' which consists of the Q-value function for the `(starting_state, action_to_plot)` pair, i.e. $Q$(starting\\_state, action\\_to\\_plot$)$, at each iteration of training. In `policy_eval` function, you can also return other variables that are helpful for your plot (e.g. training values) as long as you return the final `Q_fn`."
      ]
    },
    {
      "cell_type": "code",
      "source": [
        "from IPython.display import display, clear_output\n",
        "def policy_eval(mdp, policy, theta=0.05):\n",
        "    num_states = mdp.num_states\n",
        "    num_actions = mdp.num_actions\n",
        "    Q_fn = np.zeros((num_states, num_actions))\n",
        "    iteration_number = []\n",
        "    training_values = []\n",
        "    iteration = 0\n",
        "#Should have ideally used a while loop here to iterate till the value converges, but it takes way too much time\n",
        "    for _ in range(100):\n",
        "        delta = 0\n",
        "        for state in range(num_states):\n",
        "            for action in range(num_actions):\n",
        "                old_value = Q_fn[state, action]\n",
        "                immediate_reward = mdp.R[state, action]\n",
        "                future_rewards = sum(mdp.T[state, action, s_prime] * np.dot(Q_fn[s_prime], policy[s_prime]) for s_prime in range(num_states))\n",
        "                Q_fn[state, action] = immediate_reward + mdp.gamma * future_rewards\n",
        "                delta = max(delta, abs(old_value - Q_fn[state, action]))\n",
        "        clear_output()\n",
        "        display(f\"iteration number {iteration}\")\n",
        "        iteration += 1\n",
        "        iteration_number.append(iteration)\n",
        "        training_values.append((Q_fn[mdp.starting_state, mdp.action_to_plot]))\n",
        "\n",
        "        if delta < theta:\n",
        "            break\n",
        "\n",
        "    return Q_fn, iteration_number, training_values\n",
        "\n",
        "\n",
        "#run your code on the uniform policy\n",
        "policy_unif = 1./taxi_mdp.num_actions * np.ones([taxi_mdp.num_states,taxi_mdp.num_actions])\n",
        "Q_fn, iteration_number, training_values = policy_eval(taxi_mdp, policy_unif)"
      ],
      "metadata": {
        "colab": {
          "base_uri": "https://localhost:8080/",
          "height": 35
        },
        "id": "JDRDlkhawMIj",
        "outputId": "3c8f1a1e-3220-4ef4-9d8f-e2b09d4fa8c3"
      },
      "execution_count": null,
      "outputs": [
        {
          "output_type": "display_data",
          "data": {
            "text/plain": [
              "'iteration number 99'"
            ],
            "application/vnd.google.colaboratory.intrinsic+json": {
              "type": "string"
            }
          },
          "metadata": {}
        }
      ]
    },
    {
      "cell_type": "code",
      "source": [
        "import matplotlib.pyplot as plt\n",
        "plt.plot(iteration_number, training_values)\n",
        "plt.xlabel(\"iteration\")\n",
        "plt.ylabel(\"Q value function at starting state & action to plot\")\n",
        "plt.grid(True)"
      ],
      "metadata": {
        "colab": {
          "base_uri": "https://localhost:8080/",
          "height": 449
        },
        "id": "TgK1HVfLanjh",
        "outputId": "23be7598-5a54-4e3b-f6ee-355a6126609b"
      },
      "execution_count": null,
      "outputs": [
        {
          "output_type": "display_data",
          "data": {
            "text/plain": [
              "<Figure size 640x480 with 1 Axes>"
            ],
            "image/png": "[encoded data removed]"
          },
          "metadata": {}
        }
      ]
    },
    {
      "cell_type": "markdown",
      "metadata": {
        "id": "clgdsvakk12k"
      },
      "source": [
        "**Q3: Implement Policy Iteration using your solution from Q2 as a sub-routine, and solve for the optimal policy $\\pi^\\star$**\n",
        "\n",
        "Write a method called `policy_iteration(mdp, policy)` which takes an MDP and an *initial* policy, and outputs the optimal policy $\\pi^\\star$ via successive rounds of policy improvement. The method should return the policy obtained, as a $501 \\times 6$ `np.array`.\n",
        "\n",
        "Run your code on the taxi environment with the policy which acts uniformly at random at every state as a starting policy.\n",
        "\n",
        "Plot a 'learning curve' which consists of the state-value function for the starting state (i.e. `mdp.starting_state`) for each policy obtained. You can check if/that the optimal value obtained from policy iteration is the same (or close to) the value function obtained from value iteration. You can also return other variables that is useful for your plot (e.g. training values) as long as you return the final policy.\n",
        "\n",
        "You should expect the results are exactly or almost the same in policy iteration and value iteration. Notice that we get Q-value function in `value_iter` function, and obtain state-value function in `policy_iter` function. If you want to compare the results, you need to have additional step for the conversion."
      ]
    },
    {
      "cell_type": "code",
      "execution_count": null,
      "metadata": {
        "id": "dSzaFOu5vAzR",
        "colab": {
          "base_uri": "https://localhost:8080/",
          "height": 35
        },
        "outputId": "519969c9-a936-424d-ccce-893b4cd6a27c"
      },
      "outputs": [
        {
          "output_type": "display_data",
          "data": {
            "text/plain": [
              "'Iteration number: 10'"
            ],
            "application/vnd.google.colaboratory.intrinsic+json": {
              "type": "string"
            }
          },
          "metadata": {}
        }
      ],
      "source": [
        "from IPython.display import display, clear_output\n",
        "def policy_iter(mdp, policy_init, theta=1e-4, value_diff_threshold=1):\n",
        "    num_states = mdp.num_states\n",
        "    iteration_number = []\n",
        "    learning_q_list = []\n",
        "    iteration = 0\n",
        "    current_policy = policy_init.copy()\n",
        "    Q_fn = np.zeros([num_states, mdp.num_actions])\n",
        "# Should ideally be using a while loop here, but choosing not to due to lack of resources.\n",
        "    for _ in range(10):\n",
        "        new_Q_fn, _, _ = policy_eval(mdp, current_policy)\n",
        "        value_at_start = np.max(new_Q_fn[mdp.starting_state, :])\n",
        "        Q_fn = new_Q_fn.copy()\n",
        "\n",
        "        new_policy = np.zeros_like(current_policy)\n",
        "        policy_stable = True\n",
        "        for s in range(num_states):\n",
        "            best_action = np.argmax(Q_fn[s, :])\n",
        "            if current_policy[s, best_action] != 1:\n",
        "                policy_stable = False\n",
        "            new_policy[s, :] = 0\n",
        "            new_policy[s, best_action] = 1\n",
        "\n",
        "        if policy_stable:\n",
        "            break\n",
        "        else:\n",
        "            current_policy = new_policy.copy()\n",
        "\n",
        "        best_action_index = np.argmax(new_policy[mdp.starting_state])\n",
        "        learning_q = Q_fn[mdp.starting_state, best_action_index]\n",
        "        learning_q_list.append(learning_q)\n",
        "        iteration_number.append(iteration + 1)\n",
        "\n",
        "\n",
        "        clear_output()\n",
        "        display(f\"Iteration number: {iteration + 1}\")\n",
        "\n",
        "        iteration += 1\n",
        "\n",
        "    return Q_fn, current_policy, iteration_number, learning_q_list\n",
        "\n",
        "\n",
        "Q_fn, policy, iteration_number, q_list = policy_iter(taxi_mdp, policy_unif)"
      ]
    },
    {
      "cell_type": "code",
      "source": [
        "  #Plotting Here\n",
        "plt.figure(figsize=(10, 6))\n",
        "plt.plot(iteration_number, q_list, marker='o', linestyle='-')\n",
        "plt.title('Learning Curve')\n",
        "plt.xlabel('Iterations')\n",
        "plt.ylabel('State Value Function for Starting State')\n",
        "plt.grid(True)"
      ],
      "metadata": {
        "id": "sJGvS8y31L5P",
        "colab": {
          "base_uri": "https://localhost:8080/",
          "height": 564
        },
        "outputId": "6d04563a-ff16-49fe-9e4b-6719f7469553"
      },
      "execution_count": null,
      "outputs": [
        {
          "output_type": "display_data",
          "data": {
            "text/plain": [
              "<Figure size 1000x600 with 1 Axes>"
            ],
            "image/png": "[encoded data removed]"
          },
          "metadata": {}
        }
      ]
    },
    {
      "cell_type": "code",
      "source": [
        "print(max(q_list)) #indicates the value where state value function became stable"
      ],
      "metadata": {
        "colab": {
          "base_uri": "https://localhost:8080/"
        },
        "id": "6m1Y2eplt-Ta",
        "outputId": "4dc7ad08-3176-40d3-c11b-3de598bf365e"
      },
      "execution_count": null,
      "outputs": [
        {
          "output_type": "stream",
          "name": "stdout",
          "text": [
            "7.440590511045976\n"
          ]
        }
      ]
    },
    {
      "cell_type": "code",
      "source": [
        "# Now, in order to verify, we can check the Q value function at starting state and action 1 (taxi_mdp.action_to_plot)\n",
        "# Since policy_iter() returns state value function, we convert that to Q value function by specifying action (action_to_plot)\n",
        "Q_value_check = round(Q_fn[taxi_mdp.starting_state, taxi_mdp.action_to_plot], 3)\n",
        "# Checking if the values from value_iter() function and policy_iter() function are equal\n",
        "print(Q_value_check, Q_value_starting_state)"
      ],
      "metadata": {
        "colab": {
          "base_uri": "https://localhost:8080/"
        },
        "id": "O9SJdN2ak_fM",
        "outputId": "7f06cd95-c564-4cc0-8c88-daf26e244cbb"
      },
      "execution_count": null,
      "outputs": [
        {
          "output_type": "stream",
          "name": "stdout",
          "text": [
            "7.441 7.441\n"
          ]
        }
      ]
    },
    {
      "cell_type": "markdown",
      "metadata": {
        "id": "ZoYJ55zCaPVA"
      },
      "source": [
        "**Instructions on converting iPython notebook to pdf**\n",
        "\n",
        "Please do not directly print the iPython notebook to pdf because it may have some issue if your code or text are too long."
      ]
    },
    {
      "cell_type": "markdown",
      "metadata": {
        "id": "ONx9vjT8addX"
      },
      "source": [
        "Option 1: if you run the code locally with Jupyter Notebook or Jupyter Lab, there is an option to save to pdf from the menu."
      ]
    },
    {
      "cell_type": "markdown",
      "metadata": {
        "id": "HOlgK0wXaVil"
      },
      "source": [
        "Option 2: if you run the code on Google colab. (You can delete the block below if you run code locally.)"
      ]
    },
    {
      "cell_type": "code",
      "execution_count": null,
      "metadata": {
        "id": "Qb8YPaYIW8k1"
      },
      "outputs": [],
      "source": [
        "%%capture\n",
        "# Here we use a script to generate pdf and save it to google drive.\n",
        "\n",
        "# After executing this cell, you will be asked to link to your GoogleDrive account.\n",
        "# Then, the pdf will be generated and saved to your GoogleDrive account and you need to go there to download;\n",
        "\n",
        "from google.colab import drive\n",
        "drive.mount('/content/drive')\n",
        "# install tex; first run may take several minutes\n",
        "! apt-get install texlive-xetex\n",
        "# file path and save location below are default; please change if they do not match yours\n",
        "! jupyter nbconvert --output-dir='/content/drive/MyDrive/' '/content/drive/MyDrive/Colab Notebooks/CS443RL_Assignment2.ipynb' --to pdf"
      ]
    },
    {
      "cell_type": "markdown",
      "metadata": {
        "id": "ZkgV3wFWcI2y"
      },
      "source": [
        "Also feel free to use other methods as long as the converted file visually looks good."
      ]
    }
  ],
  "metadata": {
    "colab": {
      "provenance": []
    },
    "kernelspec": {
      "display_name": "Python 3",
      "language": "python",
      "name": "python3"
    },
    "language_info": {
      "codemirror_mode": {
        "name": "ipython",
        "version": 3
      },
      "file_extension": ".py",
      "mimetype": "text/x-python",
      "name": "python",
      "nbconvert_exporter": "python",
      "pygments_lexer": "ipython3",
      "version": "3.7.9"
    }
  },
  "nbformat": 4,
  "nbformat_minor": 0
}